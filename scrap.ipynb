{
 "cells": [
  {
   "cell_type": "code",
   "execution_count": 18,
   "metadata": {},
   "outputs": [],
   "source": [
    "a={'a': 'letra a'}\n",
    "e= {'e': 'letra e'}\n",
    "i= {'i': 'letra i'}\n",
    "o= {'o': 'letra o'}\n",
    "u= {'u': 'letra u'}"
   ]
  },
  {
   "cell_type": "code",
   "execution_count": 19,
   "metadata": {},
   "outputs": [
    {
     "name": "stdout",
     "output_type": "stream",
     "text": [
      "{'a': 'letra a', 'e': 'letra e'}\n"
     ]
    }
   ],
   "source": [
    "a.update(e)\n",
    "print (a)"
   ]
  },
  {
   "cell_type": "code",
   "execution_count": 22,
   "metadata": {},
   "outputs": [
    {
     "name": "stdout",
     "output_type": "stream",
     "text": [
      "{'a': 'letra a', 'e': 'letra e'}\n"
     ]
    }
   ],
   "source": [
    "a.update(e)\n",
    "print(a)"
   ]
  },
  {
   "cell_type": "code",
   "execution_count": 31,
   "metadata": {},
   "outputs": [
    {
     "name": "stdout",
     "output_type": "stream",
     "text": [
      "2021-12-12 00:00:00\n",
      "<class 'str'>\n",
      "2021-12-1\n"
     ]
    }
   ],
   "source": [
    "from datetime import datetime, date\n",
    "dtime = str(datetime(2021, 12, 12))\n",
    "print (dtime)\n",
    "print (type(dtime))\n",
    "print(dtime[0:9])"
   ]
  }
 ],
 "metadata": {
  "kernelspec": {
   "display_name": "Python 3 (ipykernel)",
   "language": "python",
   "name": "python3"
  },
  "language_info": {
   "codemirror_mode": {
    "name": "ipython",
    "version": 3
   },
   "file_extension": ".py",
   "mimetype": "text/x-python",
   "name": "python",
   "nbconvert_exporter": "python",
   "pygments_lexer": "ipython3",
   "version": "3.8.12"
  }
 },
 "nbformat": 4,
 "nbformat_minor": 2
}
